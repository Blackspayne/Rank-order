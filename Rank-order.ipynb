{
 "cells": [
  {
   "cell_type": "code",
   "execution_count": 19,
   "metadata": {},
   "outputs": [],
   "source": [
    "import pandas as pd\n",
    "from scipy import stats\n",
    "import numpy as np"
   ]
  },
  {
   "cell_type": "code",
   "execution_count": 20,
   "metadata": {},
   "outputs": [],
   "source": [
    "df  = pd.read_excel('F:\\\\storm\\\\storm\\\\24-11-19\\\\plots\\\\avgint\\\\tg\\\\tg.xlsx')\n",
    "df = df.dropna()"
   ]
  },
  {
   "cell_type": "code",
   "execution_count": 21,
   "metadata": {},
   "outputs": [],
   "source": [
    "index=range(0,5000)\n",
    "index\n",
    "\n",
    "columns=['Control', 'tg']\n",
    "new = pd.DataFrame(index=index, columns=columns)\n",
    "l = []\n",
    "count = 1\n",
    "while (count < 102):\n",
    "    \n",
    "    l.append(df.apply(lambda x : x.sample(1000)).apply(lambda x : sorted(x,key=pd.isnull)).reset_index(drop=True))\n",
    "    \n",
    "    count = count + 1\n",
    "   \n"
   ]
  },
  {
   "cell_type": "code",
   "execution_count": 22,
   "metadata": {},
   "outputs": [],
   "source": [
    "for i in range (1,101):\n",
    "    new['Control'] = l[i]['Control']\n",
    "    new['tg'] = l[i]['tg']\n",
    "    i = str(i)\n",
    "    new.to_csv('F:\\\\storm\\\\storm\\\\24-11-19\\\\plots\\\\avgint\\\\tg\\\\tg'+i+'.csv', index = False)"
   ]
  },
  {
   "cell_type": "code",
   "execution_count": 23,
   "metadata": {},
   "outputs": [],
   "source": [
    "for i in range (1,101):\n",
    "    i = str(i)\n",
    "    df = pd.read_csv('F:\\\\storm\\\\storm\\\\24-11-19\\\\plots\\\\avgint\\\\tg\\\\tg'+ i + '.csv')\n",
    "    for x in range(100,200):\n",
    "        x = str(x)\n",
    "        df['new'+ x] = (df['tg']/(int(x)*.01))\n",
    "    df = pd.DataFrame(np.sort(df.values, axis=0), index=df.index, columns=df.columns)    \n",
    "    df.to_csv('F:\\\\storm\\\\storm\\\\24-11-19\\\\plots\\\\avgint\\\\tg\\\\tg'+i+'.csv', index = False)"
   ]
  },
  {
   "cell_type": "code",
   "execution_count": 24,
   "metadata": {},
   "outputs": [],
   "source": [
    "for i in range (1,101):\n",
    "    i = str(i)\n",
    "    df = pd.read_csv('F:\\\\storm\\\\storm\\\\24-11-19\\\\plots\\\\avgint\\\\tg\\\\tg'+ i + '.csv')\n",
    "    mini = df['Control'].min()\n",
    "    df = df.dropna()\n",
    "    \n",
    "    for x in range (100,200):\n",
    "        x = str(x)\n",
    "        df['new' + x] = df.apply(lambda m: m['new' + x] if m['new' + x] > mini else None, axis=1)\n",
    "    df.to_csv('F:\\\\storm\\\\storm\\\\24-11-19\\\\plots\\\\avgint\\\\tg\\\\tg'+ i + '.csv', index = False)"
   ]
  },
  {
   "cell_type": "code",
   "execution_count": null,
   "metadata": {},
   "outputs": [
    {
     "name": "stderr",
     "output_type": "stream",
     "text": [
      "C:\\Users\\cns\\Anaconda3\\lib\\site-packages\\ipykernel_launcher.py:18: SettingWithCopyWarning: \n",
      "A value is trying to be set on a copy of a slice from a DataFrame\n",
      "\n",
      "See the caveats in the documentation: http://pandas.pydata.org/pandas-docs/stable/indexing.html#indexing-view-versus-copy\n",
      "C:\\Users\\cns\\Anaconda3\\lib\\site-packages\\ipykernel_launcher.py:19: SettingWithCopyWarning: \n",
      "A value is trying to be set on a copy of a slice from a DataFrame\n",
      "\n",
      "See the caveats in the documentation: http://pandas.pydata.org/pandas-docs/stable/indexing.html#indexing-view-versus-copy\n"
     ]
    }
   ],
   "source": [
    "for i in range (1,101):\n",
    "    i = str(i)\n",
    "    df = pd.read_csv('F:\\\\storm\\\\storm\\\\24-11-19\\\\plots\\\\avgint\\\\tg\\\\tg'+ i + '.csv')\n",
    "    \n",
    "    df['pvalue'] = ''\n",
    "    df['statistic'] = ''\n",
    "    k = 1\n",
    "    for x in range (100,200):\n",
    "        \n",
    "        x = str(x)\n",
    "        \n",
    "        a = np.array(df['Control'])\n",
    "        b = np.array(df['new' + x ])\n",
    "        a = a.ravel()\n",
    "        b = b.ravel()\n",
    "        z = stats.ks_2samp(a,b)\n",
    "        \n",
    "        df['statistic'][k]=z.statistic\n",
    "        df['pvalue'][k]=z.pvalue\n",
    "        k = k+1\n",
    "    df.to_csv('F:\\\\storm\\\\storm\\\\24-11-19\\\\plots\\\\avgint\\\\tg\\\\tg'+ i + '.csv')\n",
    "        \n",
    "\n",
    "        "
   ]
  },
  {
   "cell_type": "code",
   "execution_count": null,
   "metadata": {},
   "outputs": [],
   "source": [
    "index=range(0,4000)\n",
    "\n",
    "columns=['pvalue', 'SF']\n",
    "new = pd.DataFrame(index=index, columns=columns)\n",
    "for i in range (1,101): \n",
    "        i = str(i)\n",
    "        df  = pd.read_csv('F:\\\\storm\\\\storm\\\\24-11-19\\\\plots\\\\avgint\\\\tg\\\\tg'+i+'.csv')\n",
    "    \n",
    "        new['pvalue'+i]=df['pvalue']\n",
    "        new['SF'] = (new.index+ 99)*.01\n",
    "new.to_csv('F:\\\\storm\\\\storm\\\\24-11-19\\\\plots\\\\avgint\\\\tg\\\\tg_p-value.csv', index = False)\n"
   ]
  },
  {
   "cell_type": "code",
   "execution_count": null,
   "metadata": {},
   "outputs": [],
   "source": [
    "index=range(0,4000)\n",
    "\n",
    "columns=['SF', 'pvalue']\n",
    "new = pd.DataFrame(index=index, columns=columns)\n",
    "df  = pd.read_csv('F:\\\\storm\\\\storm\\\\24-11-19\\\\plots\\\\avgint\\\\tg\\\\tg_p-value.csv')\n",
    "for i in range (1,101): \n",
    "    i = str(i)\n",
    "    y = df['SF'][df['pvalue'+i]==df['pvalue'+i].max()]\n",
    "    new['SF'][int(i)] = y.max()\n",
    "    new['pvalue'][int(i)] = df['pvalue'+i].max()\n",
    "new.to_csv('F:\\\\storm\\\\storm\\\\24-11-19\\\\plots\\\\avgint\\\\tg\\\\tg_SF.csv', index = False)   "
   ]
  },
  {
   "cell_type": "code",
   "execution_count": null,
   "metadata": {},
   "outputs": [],
   "source": []
  }
 ],
 "metadata": {
  "kernelspec": {
   "display_name": "Python 3",
   "language": "python",
   "name": "python3"
  },
  "language_info": {
   "codemirror_mode": {
    "name": "ipython",
    "version": 3
   },
   "file_extension": ".py",
   "mimetype": "text/x-python",
   "name": "python",
   "nbconvert_exporter": "python",
   "pygments_lexer": "ipython3",
   "version": "3.7.0"
  }
 },
 "nbformat": 4,
 "nbformat_minor": 2
}
